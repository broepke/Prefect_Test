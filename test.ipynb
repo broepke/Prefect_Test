{
 "cells": [
  {
   "attachments": {},
   "cell_type": "markdown",
   "metadata": {},
   "source": [
    "# Tutorial / First Steps\n",
    "\n",
    "https://docs.prefect.io/tutorials/first-steps/"
   ]
  },
  {
   "cell_type": "code",
   "execution_count": 1,
   "metadata": {},
   "outputs": [],
   "source": [
    "import requests\n",
    "from prefect import flow, task"
   ]
  },
  {
   "cell_type": "code",
   "execution_count": 2,
   "metadata": {},
   "outputs": [
    {
     "data": {
      "text/html": [
       "<pre style=\"white-space:pre;overflow-x:auto;line-height:normal;font-family:Menlo,'DejaVu Sans Mono',consolas,'Courier New',monospace\">15:29:19.567 | <span style=\"color: #008080; text-decoration-color: #008080\">INFO</span>    | prefect.engine - Created flow run<span style=\"color: #800080; text-decoration-color: #800080\"> 'russet-mackerel'</span> for flow<span style=\"color: #800080; text-decoration-color: #800080; font-weight: bold\"> 'my-favorite-function'</span>\n",
       "</pre>\n"
      ],
      "text/plain": [
       "15:29:19.567 | \u001b[36mINFO\u001b[0m    | prefect.engine - Created flow run\u001b[35m 'russet-mackerel'\u001b[0m for flow\u001b[1;35m 'my-favorite-function'\u001b[0m\n"
      ]
     },
     "metadata": {},
     "output_type": "display_data"
    },
    {
     "name": "stdout",
     "output_type": "stream",
     "text": [
      "What is your favorite number?\n"
     ]
    },
    {
     "data": {
      "text/html": [
       "<pre style=\"white-space:pre;overflow-x:auto;line-height:normal;font-family:Menlo,'DejaVu Sans Mono',consolas,'Courier New',monospace\">15:29:19.716 | <span style=\"color: #008080; text-decoration-color: #008080\">INFO</span>    | Flow run<span style=\"color: #800080; text-decoration-color: #800080\"> 'russet-mackerel'</span> - Finished in state <span style=\"color: #008000; text-decoration-color: #008000\">Completed</span>()\n",
       "</pre>\n"
      ],
      "text/plain": [
       "15:29:19.716 | \u001b[36mINFO\u001b[0m    | Flow run\u001b[35m 'russet-mackerel'\u001b[0m - Finished in state \u001b[32mCompleted\u001b[0m()\n"
      ]
     },
     "metadata": {},
     "output_type": "display_data"
    },
    {
     "name": "stdout",
     "output_type": "stream",
     "text": [
      "42\n"
     ]
    }
   ],
   "source": [
    "@flow\n",
    "def my_favorite_function():\n",
    "    print(\"What is your favorite number?\")\n",
    "    return 42\n",
    "\n",
    "print(my_favorite_function())"
   ]
  },
  {
   "cell_type": "code",
   "execution_count": 3,
   "metadata": {},
   "outputs": [
    {
     "data": {
      "text/html": [
       "<pre style=\"white-space:pre;overflow-x:auto;line-height:normal;font-family:Menlo,'DejaVu Sans Mono',consolas,'Courier New',monospace\">15:29:43.908 | <span style=\"color: #008080; text-decoration-color: #008080\">INFO</span>    | prefect.engine - Created flow run<span style=\"color: #800080; text-decoration-color: #800080\"> 'hypnotic-quokka'</span> for flow<span style=\"color: #800080; text-decoration-color: #800080; font-weight: bold\"> 'call-api'</span>\n",
       "</pre>\n"
      ],
      "text/plain": [
       "15:29:43.908 | \u001b[36mINFO\u001b[0m    | prefect.engine - Created flow run\u001b[35m 'hypnotic-quokka'\u001b[0m for flow\u001b[1;35m 'call-api'\u001b[0m\n"
      ]
     },
     "metadata": {},
     "output_type": "display_data"
    },
    {
     "data": {
      "text/html": [
       "<pre style=\"white-space:pre;overflow-x:auto;line-height:normal;font-family:Menlo,'DejaVu Sans Mono',consolas,'Courier New',monospace\">15:29:44.440 | <span style=\"color: #008080; text-decoration-color: #008080\">INFO</span>    | Flow run<span style=\"color: #800080; text-decoration-color: #800080\"> 'hypnotic-quokka'</span> - Finished in state <span style=\"color: #008000; text-decoration-color: #008000\">Completed</span>()\n",
       "</pre>\n"
      ],
      "text/plain": [
       "15:29:44.440 | \u001b[36mINFO\u001b[0m    | Flow run\u001b[35m 'hypnotic-quokka'\u001b[0m - Finished in state \u001b[32mCompleted\u001b[0m()\n"
      ]
     },
     "metadata": {},
     "output_type": "display_data"
    },
    {
     "name": "stdout",
     "output_type": "stream",
     "text": [
      "{'date': '12-07-2022', 'milliseconds_since_epoch': 1670448584408, 'time': '09:29:44 PM'}\n"
     ]
    }
   ],
   "source": [
    "@flow\n",
    "def call_api(url):\n",
    "    return requests.get(url).json()\n",
    "\n",
    "api_result = call_api(\"http://time.jsontest.com/\")\n",
    "print(api_result)"
   ]
  },
  {
   "cell_type": "code",
   "execution_count": 4,
   "metadata": {},
   "outputs": [
    {
     "data": {
      "text/html": [
       "<pre style=\"white-space:pre;overflow-x:auto;line-height:normal;font-family:Menlo,'DejaVu Sans Mono',consolas,'Courier New',monospace\">15:29:45.554 | <span style=\"color: #008080; text-decoration-color: #008080\">INFO</span>    | prefect.engine - Created flow run<span style=\"color: #800080; text-decoration-color: #800080\"> 'thundering-dalmatian'</span> for flow<span style=\"color: #800080; text-decoration-color: #800080; font-weight: bold\"> 'api-flow'</span>\n",
       "</pre>\n"
      ],
      "text/plain": [
       "15:29:45.554 | \u001b[36mINFO\u001b[0m    | prefect.engine - Created flow run\u001b[35m 'thundering-dalmatian'\u001b[0m for flow\u001b[1;35m 'api-flow'\u001b[0m\n"
      ]
     },
     "metadata": {},
     "output_type": "display_data"
    },
    {
     "data": {
      "text/html": [
       "<pre style=\"white-space:pre;overflow-x:auto;line-height:normal;font-family:Menlo,'DejaVu Sans Mono',consolas,'Courier New',monospace\">15:29:45.629 | <span style=\"color: #008080; text-decoration-color: #008080\">INFO</span>    | Flow run<span style=\"color: #800080; text-decoration-color: #800080\"> 'thundering-dalmatian'</span> - Created task run 'call_api-ded10bed-0' for task 'call_api'\n",
       "</pre>\n"
      ],
      "text/plain": [
       "15:29:45.629 | \u001b[36mINFO\u001b[0m    | Flow run\u001b[35m 'thundering-dalmatian'\u001b[0m - Created task run 'call_api-ded10bed-0' for task 'call_api'\n"
      ]
     },
     "metadata": {},
     "output_type": "display_data"
    },
    {
     "data": {
      "text/html": [
       "<pre style=\"white-space:pre;overflow-x:auto;line-height:normal;font-family:Menlo,'DejaVu Sans Mono',consolas,'Courier New',monospace\">15:29:45.630 | <span style=\"color: #008080; text-decoration-color: #008080\">INFO</span>    | Flow run<span style=\"color: #800080; text-decoration-color: #800080\"> 'thundering-dalmatian'</span> - Executing 'call_api-ded10bed-0' immediately...\n",
       "</pre>\n"
      ],
      "text/plain": [
       "15:29:45.630 | \u001b[36mINFO\u001b[0m    | Flow run\u001b[35m 'thundering-dalmatian'\u001b[0m - Executing 'call_api-ded10bed-0' immediately...\n"
      ]
     },
     "metadata": {},
     "output_type": "display_data"
    },
    {
     "name": "stdout",
     "output_type": "stream",
     "text": [
      "200\n"
     ]
    },
    {
     "data": {
      "text/html": [
       "<pre style=\"white-space:pre;overflow-x:auto;line-height:normal;font-family:Menlo,'DejaVu Sans Mono',consolas,'Courier New',monospace\">15:29:46.972 | <span style=\"color: #008080; text-decoration-color: #008080\">INFO</span>    | Task run 'call_api-ded10bed-0' - Finished in state <span style=\"color: #008000; text-decoration-color: #008000\">Completed</span>()\n",
       "</pre>\n"
      ],
      "text/plain": [
       "15:29:46.972 | \u001b[36mINFO\u001b[0m    | Task run 'call_api-ded10bed-0' - Finished in state \u001b[32mCompleted\u001b[0m()\n"
      ]
     },
     "metadata": {},
     "output_type": "display_data"
    },
    {
     "data": {
      "text/html": [
       "<pre style=\"white-space:pre;overflow-x:auto;line-height:normal;font-family:Menlo,'DejaVu Sans Mono',consolas,'Courier New',monospace\">15:29:46.988 | <span style=\"color: #008080; text-decoration-color: #008080\">INFO</span>    | Flow run<span style=\"color: #800080; text-decoration-color: #800080\"> 'thundering-dalmatian'</span> - Finished in state <span style=\"color: #008000; text-decoration-color: #008000\">Completed</span>()\n",
       "</pre>\n"
      ],
      "text/plain": [
       "15:29:46.988 | \u001b[36mINFO\u001b[0m    | Flow run\u001b[35m 'thundering-dalmatian'\u001b[0m - Finished in state \u001b[32mCompleted\u001b[0m()\n"
      ]
     },
     "metadata": {},
     "output_type": "display_data"
    },
    {
     "name": "stdout",
     "output_type": "stream",
     "text": [
      "{'fact': 'In 1888, more than 300,000 mummified cats were found an Egyptian cemetery. They were stripped of their wrappings and carted off to be used by farmers in England and the U.S. for fertilizer.', 'length': 189}\n"
     ]
    }
   ],
   "source": [
    "@task\n",
    "def call_api(url):\n",
    "    response = requests.get(url)\n",
    "    print(response.status_code)\n",
    "    return response.json()\n",
    "\n",
    "@flow\n",
    "def api_flow(url):\n",
    "    fact_json = call_api(url)\n",
    "    return fact_json\n",
    "\n",
    "print(api_flow(\"https://catfact.ninja/fact\"))\n"
   ]
  },
  {
   "cell_type": "code",
   "execution_count": null,
   "metadata": {},
   "outputs": [],
   "source": []
  }
 ],
 "metadata": {
  "kernelspec": {
   "display_name": "venv",
   "language": "python",
   "name": "python3"
  },
  "language_info": {
   "codemirror_mode": {
    "name": "ipython",
    "version": 3
   },
   "file_extension": ".py",
   "mimetype": "text/x-python",
   "name": "python",
   "nbconvert_exporter": "python",
   "pygments_lexer": "ipython3",
   "version": "3.9.6"
  },
  "orig_nbformat": 4,
  "vscode": {
   "interpreter": {
    "hash": "ed682de7f5de838a2b0294babb64dd7126933861963fa7f90a16307011610f15"
   }
  }
 },
 "nbformat": 4,
 "nbformat_minor": 2
}
